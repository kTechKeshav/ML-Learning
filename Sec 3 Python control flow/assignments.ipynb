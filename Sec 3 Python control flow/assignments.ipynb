{
 "cells": [
  {
   "cell_type": "markdown",
   "metadata": {},
   "source": [
    "# Module 2: Control Flow Assignments ✅\n",
    "## Lesson 2.1: Conditional Statements\n",
    "### Assignment 1: Simple if Statement\n",
    "\n",
    "Write a program that asks the user to input a number and prints whether the number is positive.\n",
    "\n",
    "### Assignment 2: if-else Statement\n",
    "\n",
    "Write a program that asks the user to input a number and prints whether the number is positive or negative.\n",
    "\n",
    "### Assignment 3: if-elif-else Statement\n",
    "\n",
    "Write a program that asks the user to input a number and prints whether the number is positive, negative, or zero.\n",
    "\n",
    "### Assignment 4: Nested if Statement\n",
    "\n",
    "Write a program that asks the user to input a number and prints whether the number is positive and even, positive and odd, or negative.\n",
    "\n",
    "## Lesson 2.2: Loops\n",
    "### Assignment 5: for Loop\n",
    "\n",
    "Write a program that prints all the numbers from 1 to 10 using a for loop.\n",
    "\n",
    "### Assignment 6: while Loop\n",
    "\n",
    "Write a program that prints all the numbers from 1 to 10 using a while loop.\n",
    "\n",
    "### Assignment 7: Nested Loops\n",
    "\n",
    "Write a program that prints a 5x5 grid of asterisks (*) using nested loops.\n",
    "\n",
    "### Assignment 8: break Statement\n",
    "\n",
    "Write a program that asks the user to input numbers until they input 0. The program should print the sum of all the input numbers.\n",
    "\n",
    "### Assignment 9: continue Statement\n",
    "\n",
    "Write a program that prints all the numbers from 1 to 10 except 5 using a for loop and continue statement.\n",
    "\n",
    "### Assignment 10: pass Statement\n",
    "\n",
    "Write a program that defines an empty function using the pass statement.\n",
    "\n",
    "### Assignment 11: Combining Loops and Conditionals\n",
    "\n",
    "Write a program that asks the user to input a number and prints all the even numbers from 1 to that number using a for loop.\n",
    "\n",
    "### Assignment 12: Factorial Calculation\n",
    "\n",
    "Write a program that calculates the factorial of a number input by the user using a while loop.\n",
    "\n",
    "### Assignment 13: Sum of Digits\n",
    "\n",
    "Write a program that calculates the sum of the digits of a number input by the user using a while loop.\n",
    "\n",
    "### Assignment 14: Prime Number Check\n",
    "\n",
    "Write a program that checks if a number input by the user is a prime number using a for loop.\n",
    "\n",
    "### Assignment 15: Fibonacci Sequence\n",
    "\n",
    "Write a program that prints the first n Fibonacci numbers, where n is input by the user."
   ]
  },
  {
   "cell_type": "code",
   "execution_count": null,
   "id": "2f1e4c19",
   "metadata": {},
   "outputs": [],
   "source": []
  },
  {
   "cell_type": "code",
   "execution_count": null,
   "id": "a2a032e9",
   "metadata": {},
   "outputs": [],
   "source": []
  },
  {
   "cell_type": "code",
   "execution_count": null,
   "id": "ac3081b8",
   "metadata": {},
   "outputs": [],
   "source": []
  },
  {
   "cell_type": "markdown",
   "id": "0c271eb8",
   "metadata": {},
   "source": [
    "### Solving lesson 2.1: Conditional Statements.✅"
   ]
  },
  {
   "cell_type": "code",
   "execution_count": null,
   "id": "6e68562b",
   "metadata": {},
   "outputs": [
    {
     "name": "stdout",
     "output_type": "stream",
     "text": [
      "Negative\n"
     ]
    }
   ],
   "source": [
    "# Write a program that asks the user to input a number and prints whether the number is positive.\n",
    "\n",
    "if (int(input('Enter a number : '))>=0):\n",
    "      print('No is Positive')\n",
    "else:\n",
    "      print('No is not Positive')"
   ]
  },
  {
   "cell_type": "code",
   "execution_count": null,
   "id": "ac0f7b7b",
   "metadata": {},
   "outputs": [],
   "source": [
    "# Write a program that asks the user to input a number and prints whether the number is positive or negative.\n",
    "\n",
    "if (int(input('Enter a number : '))>=0):\n",
    "      print('No is Positive')\n",
    "else:\n",
    "      print('No is Negative')"
   ]
  },
  {
   "cell_type": "code",
   "execution_count": null,
   "id": "53f87643",
   "metadata": {},
   "outputs": [],
   "source": [
    "# Write a program that asks the user to input a number and prints whether the number is positive, negative, or zero.\n",
    "\n",
    "no = int(input('Enter a number : '))\n",
    "if (no>0):\n",
    "      print('No is Positive')\n",
    "elif (no<0):\n",
    "      print('No is Negative')\n",
    "else: \n",
    "      print('Zero')"
   ]
  },
  {
   "cell_type": "code",
   "execution_count": 5,
   "id": "9cdb9dbd",
   "metadata": {},
   "outputs": [
    {
     "name": "stdout",
     "output_type": "stream",
     "text": [
      "Negative\n"
     ]
    }
   ],
   "source": [
    "# Write a program that asks the user to input a number and prints whether the number is positive and even, positive and odd, or negative.\n",
    "\n",
    "no = int(input('Enter a number : '))\n",
    "if no>0:\n",
    "      print('Positive')\n",
    "      if no%2 == 0:\n",
    "            print('Even')\n",
    "      else:\n",
    "            print('Odd')\n",
    "else:\n",
    "      print('Negative')\n"
   ]
  },
  {
   "cell_type": "markdown",
   "id": "5d876a4d",
   "metadata": {},
   "source": [
    "### Solving lesson 2.2: Loops ✅"
   ]
  },
  {
   "cell_type": "code",
   "execution_count": 6,
   "id": "c013237f",
   "metadata": {},
   "outputs": [
    {
     "name": "stdout",
     "output_type": "stream",
     "text": [
      "1 2 3 4 5 6 7 8 9 10 "
     ]
    }
   ],
   "source": [
    "# Write a program that prints all the numbers from 1 to 10 using a for loop.\n",
    "\n",
    "for i in range(1, 11):\n",
    "      print(i, end=\" \")"
   ]
  },
  {
   "cell_type": "code",
   "execution_count": 7,
   "id": "28426318",
   "metadata": {},
   "outputs": [
    {
     "name": "stdout",
     "output_type": "stream",
     "text": [
      "1 2 3 4 5 6 7 8 9 10 "
     ]
    }
   ],
   "source": [
    "# Write a program that prints all the numbers from 1 to 10 using a while loop.\n",
    "\n",
    "i = 1\n",
    "while i!=11:\n",
    "      print(i, end=\" \")\n",
    "      i = i+1"
   ]
  },
  {
   "cell_type": "code",
   "execution_count": 8,
   "id": "86bc15b1",
   "metadata": {},
   "outputs": [
    {
     "name": "stdout",
     "output_type": "stream",
     "text": [
      "* * * * * \n",
      "* * * * * \n",
      "* * * * * \n",
      "* * * * * \n",
      "* * * * * \n"
     ]
    }
   ],
   "source": [
    "# Write a program that prints a 5x5 grid of asterisks (*) using nested loops.\n",
    "\n",
    "for i in range(1, 6):\n",
    "      for j in range(1, 6):\n",
    "            print(\"*\", end=\" \")\n",
    "      print()"
   ]
  },
  {
   "cell_type": "code",
   "execution_count": 10,
   "id": "871d5dd7",
   "metadata": {},
   "outputs": [
    {
     "name": "stdout",
     "output_type": "stream",
     "text": [
      "Sum is => 15\n"
     ]
    }
   ],
   "source": [
    "# Write a program that asks the user to input numbers until they input 0. The program should print the sum of all the input numbers.\n",
    "\n",
    "sum = 0\n",
    "no = int(input('Enter a number: '))\n",
    "while no!=0:\n",
    "      sum=sum+no\n",
    "      no = int(input('Enter a number: '))\n",
    "\n",
    "print(f\"Sum is => {sum}\")"
   ]
  },
  {
   "cell_type": "code",
   "execution_count": 11,
   "id": "87be80e4",
   "metadata": {},
   "outputs": [
    {
     "name": "stdout",
     "output_type": "stream",
     "text": [
      "1 2 3 4 6 7 8 9 10 "
     ]
    }
   ],
   "source": [
    "# Write a program that prints all the numbers from 1 to 10 except 5 using a for loop and continue statement.\n",
    "\n",
    "for i in range(1, 11):\n",
    "      if i==5:\n",
    "            continue\n",
    "      print(i, end=\" \")"
   ]
  },
  {
   "cell_type": "code",
   "execution_count": 12,
   "id": "f1976933",
   "metadata": {},
   "outputs": [],
   "source": [
    "# Write a program that defines an empty function using the pass statement.\n",
    "\n",
    "def demo():\n",
    "      pass\n",
    "\n",
    "demo()"
   ]
  },
  {
   "cell_type": "code",
   "execution_count": 14,
   "id": "2b540549",
   "metadata": {},
   "outputs": [
    {
     "name": "stdout",
     "output_type": "stream",
     "text": [
      "2 4 6 8 10 12 14 16 18 20 22 24 26 28 30 32 34 36 38 40 42 44 46 48 50 52 54 56 58 60 62 64 66 68 70 72 74 76 78 80 82 84 86 88 "
     ]
    }
   ],
   "source": [
    "# Write a program that asks the user to input a number and prints all the even numbers from 1 to that number using a for loop.\n",
    "\n",
    "no = int(input('Enter a number : '))\n",
    "for i in range(1, no+1):\n",
    "      if(i % 2 ==0):\n",
    "            print(i, end=\" \")"
   ]
  },
  {
   "cell_type": "code",
   "execution_count": 17,
   "id": "c27ca47d",
   "metadata": {},
   "outputs": [
    {
     "name": "stdout",
     "output_type": "stream",
     "text": [
      "Factorial of the 6 is => 720\n"
     ]
    }
   ],
   "source": [
    "# Write a program that calculates the factorial of a number input by the user using a while loop.\n",
    "\n",
    "no = int(input('Enter Your number : '))\n",
    "fact = 1\n",
    "i=1\n",
    "while i!=no+1:\n",
    "      fact = fact*i\n",
    "      i=i+1\n",
    "\n",
    "print(\"Factorial of the {} is => {}\".format(no, fact))"
   ]
  },
  {
   "cell_type": "code",
   "execution_count": 19,
   "id": "04563d2e",
   "metadata": {},
   "outputs": [
    {
     "name": "stdout",
     "output_type": "stream",
     "text": [
      "Sum upto 6 is => 21\n"
     ]
    }
   ],
   "source": [
    "# Write a program that calculates the sum of the digits of a number input by the user using a while loop.\n",
    "\n",
    "no = int(input('Enter Your number : '))\n",
    "sum = 0\n",
    "i=1\n",
    "while i!=no+1:\n",
    "      sum = sum+i\n",
    "      i=i+1\n",
    "\n",
    "print(\"Sum upto {} is => {}\".format(no, sum))"
   ]
  },
  {
   "cell_type": "code",
   "execution_count": 24,
   "id": "b3ea81dd",
   "metadata": {},
   "outputs": [
    {
     "name": "stdout",
     "output_type": "stream",
     "text": [
      "Not Prime\n"
     ]
    }
   ],
   "source": [
    "# Write a program that checks if a number input by the user is a prime number using a for loop.\n",
    "\n",
    "def checkPrime(no):\n",
    "      for i in range(2, (no//2)+1):\n",
    "            if no%i == 0:\n",
    "                  return False\n",
    "      return True\n",
    "\n",
    "no=int(input('Enter a number : '))\n",
    "\n",
    "if checkPrime(no) == True:\n",
    "      print('Prime')\n",
    "else:\n",
    "      print('Not Prime')"
   ]
  },
  {
   "cell_type": "code",
   "execution_count": 28,
   "id": "099bc294",
   "metadata": {},
   "outputs": [
    {
     "name": "stdout",
     "output_type": "stream",
     "text": [
      "0\n"
     ]
    }
   ],
   "source": [
    "# Write a program that prints the first n Fibonacci numbers, where n is input by the user.\n",
    "\n",
    "n = int(input(\"Enter the number of Fibonacci numbers to print: \"))\n",
    "a, b = 0, 1\n",
    "count = 0\n",
    "while count < n:\n",
    "    print(a)\n",
    "    a, b = b, a + b\n",
    "    count += 1\n"
   ]
  }
 ],
 "metadata": {
  "kernelspec": {
   "display_name": "Python 3",
   "language": "python",
   "name": "python3"
  },
  "language_info": {
   "codemirror_mode": {
    "name": "ipython",
    "version": 3
   },
   "file_extension": ".py",
   "mimetype": "text/x-python",
   "name": "python",
   "nbconvert_exporter": "python",
   "pygments_lexer": "ipython3",
   "version": "3.12.0"
  }
 },
 "nbformat": 4,
 "nbformat_minor": 5
}
