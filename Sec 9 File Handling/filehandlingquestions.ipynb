{
 "cells": [
  {
   "cell_type": "markdown",
   "metadata": {},
   "source": [
    "# Module: File Handling Assignments\n",
    "## Lesson: File Handling and Operations\n",
    "### Assignment 1: Reading a File✅\n",
    "\n",
    "Write a function that reads the contents of a file named `sample.txt` and prints each line.\n",
    "\n",
    "### Assignment 2: Writing to a File✅\n",
    "\n",
    "Write a function that writes a list of strings to a file named `output.txt`, with each string on a new line.\n",
    "\n",
    "### Assignment 3: Copying a File✅\n",
    "\n",
    "Write a function that copies the contents of a file named `source.txt` to a new file named `destination.txt`.\n",
    "\n",
    "### Assignment 4: Appending to a File✅\n",
    "\n",
    "Write a function that appends a given string to the end of a file named `log.txt`.\n",
    "\n",
    "### Assignment 5: Counting Words in a File✅\n",
    "\n",
    "Write a function that reads the contents of a file named `document.txt` and returns the number of words in the file.\n",
    "\n",
    "### Assignment 6: Finding and Replacing Text✅\n",
    "\n",
    "Write a function that finds and replaces all occurrences of a given word in a file named `data.txt` with another word.\n",
    "\n",
    "### Assignment 7: Reading a File in Reverse✅\n",
    "\n",
    "Write a function that reads the contents of a file named `reverse.txt` and prints each line in reverse order.\n",
    "\n",
    "### Assignment 8: Counting Lines, Words, and Characters✅\n",
    "\n",
    "Write a function that reads the contents of a file named `stats.txt` and returns the number of lines, words, and characters in the file.\n",
    "\n",
    "### Assignment 9: Merging Multiple Files✅\n",
    "\n",
    "Write a function that merges the contents of multiple files into a single file named `merged.txt`.\n",
    "\n",
    "### Assignment 10: Splitting a Large File\n",
    "\n",
    "Write a function that splits a large file named `large.txt` into smaller files of 100 lines each.\n",
    "\n",
    "### Assignment 11: Creating a Log File\n",
    "\n",
    "Write a function that creates a log file named `activity.log` and writes log messages with timestamps.\n",
    "\n",
    "### Assignment 12: Binary File Operations\n",
    "\n",
    "Write a function that reads a binary file named `image.bin` and writes its contents to another binary file named `copy_image.bin`.\n",
    "\n",
    "### Assignment 13: CSV File Operations\n",
    "\n",
    "Write a function that reads a CSV file named `data.csv` and prints its contents as a list of dictionaries.\n",
    "\n",
    "### Assignment 14: JSON File Operations\n",
    "\n",
    "Write a function that reads a JSON file named `data.json` and prints its contents as a Python dictionary.\n",
    "\n",
    "### Assignment 15: File Permission Handling\n",
    "\n",
    "Write a function that attempts to read a file named `protected.txt` and handles any permission errors gracefully by printing an error message."
   ]
  },
  {
   "cell_type": "code",
   "execution_count": 2,
   "metadata": {},
   "outputs": [
    {
     "name": "stdout",
     "output_type": "stream",
     "text": [
      "This is the content written inside sample.txt\n"
     ]
    }
   ],
   "source": [
    "# Write a function that reads the contents of a file named `sample.txt` and prints each line.\n",
    "\n",
    "def readFile(file_name):\n",
    "      with open(file_name, 'r') as file:\n",
    "            for line in file:\n",
    "                  print(line.strip())\n",
    "\n",
    "readFile('sample.txt')"
   ]
  },
  {
   "cell_type": "code",
   "execution_count": 5,
   "id": "38665435",
   "metadata": {},
   "outputs": [],
   "source": [
    "# Write a function that writes a list of strings to a file named `output.txt`, with each string on a new line.\n",
    "\n",
    "def writeLines(filename, lines):\n",
    "      with open(filename, 'w') as file:\n",
    "            file.writelines(lines)\n",
    "\n",
    "lines = ['This is Line 1\\n', 'This is Line 2\\n', 'This is Line 3\\n']\n",
    "writeLines('output.txt', lines)"
   ]
  },
  {
   "cell_type": "code",
   "execution_count": 1,
   "id": "eed0ea79",
   "metadata": {},
   "outputs": [
    {
     "name": "stdout",
     "output_type": "stream",
     "text": [
      "Copied success from source.txt to destination.txt\n"
     ]
    }
   ],
   "source": [
    "# Write a function that copies the contents of a file named `source.txt` to a new file named `destination.txt`.\n",
    "\n",
    "def copying(sourceFile, destinationFile):\n",
    "      with open(sourceFile, 'r') as file:\n",
    "            content=file.read()\n",
    "      \n",
    "      with open(destinationFile, 'w') as file:\n",
    "            file.write(content)\n",
    "      \n",
    "      print(f\"Copied success from {sourceFile} to {destinationFile}\")\n",
    "\n",
    "copying('source.txt', 'destination.txt')\n"
   ]
  },
  {
   "cell_type": "code",
   "execution_count": 7,
   "id": "d1902173",
   "metadata": {},
   "outputs": [],
   "source": [
    "# Write a function that appends a given string to the end of a file named `log.txt`.\n",
    "\n",
    "def append_to_file(filename, text):\n",
    "      with open(filename, 'a') as file:\n",
    "            file.write(text)\n",
    "\n",
    "append_to_file('log.txt', 'Keshav Awasthi\\n')"
   ]
  },
  {
   "cell_type": "code",
   "execution_count": 5,
   "id": "ecbd8616",
   "metadata": {},
   "outputs": [
    {
     "name": "stdout",
     "output_type": "stream",
     "text": [
      "10\n"
     ]
    }
   ],
   "source": [
    "# Write a function that reads the contents of a file named `document.txt` and returns the number of words in the file.\n",
    "\n",
    "def count_words(filename):\n",
    "      with open(filename, 'r') as file:\n",
    "        text = file.read()\n",
    "        words = text.split()\n",
    "        return len(words)\n",
    "\n",
    "print(count_words('document.txt'))"
   ]
  },
  {
   "cell_type": "code",
   "execution_count": 17,
   "id": "1692fecf",
   "metadata": {},
   "outputs": [
    {
     "name": "stdout",
     "output_type": "stream",
     "text": [
      "Done\n"
     ]
    }
   ],
   "source": [
    "# Write a function that finds and replaces all occurrences of a given word in a file named `data.txt` with another word.\n",
    "\n",
    "def find_and_replace(filename, old_word, new_word):\n",
    "      with open(filename, 'r') as file:\n",
    "            content=file.read()\n",
    "\n",
    "      content=content.replace(old_word, new_word)\n",
    "      with open(filename, 'w') as file:\n",
    "            file.write(content)\n",
    "      print('Done')\n",
    "\n",
    "find_and_replace('data.txt', 'Hi', 'Hello')\n"
   ]
  },
  {
   "cell_type": "code",
   "execution_count": 20,
   "id": "11bf8572",
   "metadata": {},
   "outputs": [
    {
     "name": "stdout",
     "output_type": "stream",
     "text": [
      "This is Line 4\n",
      "This is Line 3\n",
      "This is Line 2\n",
      "This is Line 1\n"
     ]
    }
   ],
   "source": [
    "# Write a function that reads the contents of a file named `reverse.txt` and prints each line in reverse order.\n",
    "\n",
    "def read_reverse(filename):\n",
    "      with open(filename, 'r') as file:\n",
    "            lines=file.readlines()\n",
    "      for line in reversed(lines):\n",
    "            print(line.strip())\n",
    "\n",
    "read_reverse('reverse.txt')"
   ]
  },
  {
   "cell_type": "code",
   "execution_count": 27,
   "id": "781eb936",
   "metadata": {},
   "outputs": [
    {
     "name": "stdout",
     "output_type": "stream",
     "text": [
      "(3, 12, 44)\n"
     ]
    }
   ],
   "source": [
    "# Write a function that reads the contents of a file named `stats.txt` and returns the number of lines, words, and characters in the file.\n",
    "\n",
    "def count_lwc(filename):\n",
    "      with open(filename, 'r') as file:\n",
    "            lines = file.readlines()\n",
    "            words = sum(len(line.split()) for line in lines)\n",
    "            characters = sum(len(line) for line in lines)\n",
    "\n",
    "            return len(lines), words, characters\n",
    "      \n",
    "# lines, words, characters = count_lwc('stats.txt')\n",
    "print(count_lwc('stats.txt'))"
   ]
  },
  {
   "cell_type": "code",
   "execution_count": 28,
   "id": "09e7b86e",
   "metadata": {},
   "outputs": [],
   "source": [
    "# Write a function that merges the contents of multiple files into a single file named `merged.txt`.\n",
    "\n",
    "def merge_files(files, output_file):\n",
    "      with open(output_file, 'w') as outfile:\n",
    "            for file in files:\n",
    "                  with open(file, 'r') as innerFile:\n",
    "                        outfile.write(innerFile.read()+'\\n')\n",
    "\n",
    "merge_files(['data.txt', 'destination.txt', 'log.txt', 'stats.txt'], 'merged.txt')"
   ]
  },
  {
   "cell_type": "code",
   "execution_count": null,
   "id": "bc871ad2",
   "metadata": {},
   "outputs": [],
   "source": [
    "# Write a function that splits a large file named `large.txt` into smaller files of 100 lines each.\n",
    "\n"
   ]
  }
 ],
 "metadata": {
  "kernelspec": {
   "display_name": "Python 3",
   "language": "python",
   "name": "python3"
  },
  "language_info": {
   "codemirror_mode": {
    "name": "ipython",
    "version": 3
   },
   "file_extension": ".py",
   "mimetype": "text/x-python",
   "name": "python",
   "nbconvert_exporter": "python",
   "pygments_lexer": "ipython3",
   "version": "3.12.0"
  }
 },
 "nbformat": 4,
 "nbformat_minor": 5
}
