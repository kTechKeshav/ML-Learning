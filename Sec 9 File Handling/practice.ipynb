{
 "cells": [
  {
   "cell_type": "code",
   "execution_count": 2,
   "metadata": {},
   "outputs": [
    {
     "name": "stdout",
     "output_type": "stream",
     "text": [
      "Hello my \n",
      "name is \n",
      "Keshav Awasthi\n"
     ]
    }
   ],
   "source": [
    "# How to read a whole file at once\n",
    "\n",
    "with open('./example.txt', 'r') as file:\n",
    "      content = file.read()  # This is used to read the whole content of the file.\n",
    "      print(content)"
   ]
  },
  {
   "cell_type": "code",
   "execution_count": 4,
   "metadata": {},
   "outputs": [
    {
     "name": "stdout",
     "output_type": "stream",
     "text": [
      "Hello my \n",
      "name is \n",
      "Keshav Awasthi"
     ]
    }
   ],
   "source": [
    "# How to read the whole file line by line\n",
    "\n",
    "with open('./example.txt', 'r') as file:\n",
    "      for line in file:\n",
    "            print(line, end=\"\")"
   ]
  },
  {
   "cell_type": "code",
   "execution_count": 10,
   "metadata": {},
   "outputs": [],
   "source": [
    "# Writing in a file (overwriting)\n",
    "\n",
    "with open('./example.txt', 'w') as file:\n",
    "      file.write(\"Hello\\n\")\n",
    "      file.write(\"hi\\n\")"
   ]
  },
  {
   "cell_type": "code",
   "execution_count": 14,
   "metadata": {},
   "outputs": [],
   "source": [
    "# Writing in a file (without overwriting)\n",
    "\n",
    "with open('./example.txt', 'a') as file:\n",
    "      file.write(\"\\nHello world\")\n",
    "      file.write(\"\\nKrishna Radhe\")"
   ]
  },
  {
   "cell_type": "code",
   "execution_count": 20,
   "metadata": {},
   "outputs": [],
   "source": [
    "# Writing a list of lines to a file\n",
    "\n",
    "lines = ['\\nFirst line', '\\nSecond Line', '\\nThird Line']\n",
    "\n",
    "with open('./example.txt', 'a') as file:\n",
    "      file.writelines(lines)"
   ]
  },
  {
   "cell_type": "code",
   "execution_count": 21,
   "metadata": {},
   "outputs": [],
   "source": [
    "# Binary files (Write)\n",
    "\n",
    "data = b'\\x00\\x01\\x02\\x03\\x04'\n",
    "\n",
    "with open('./example.bin', 'wb') as file:\n",
    "      file.write(data)"
   ]
  },
  {
   "cell_type": "code",
   "execution_count": 22,
   "metadata": {},
   "outputs": [
    {
     "name": "stdout",
     "output_type": "stream",
     "text": [
      "b'\\x00\\x01\\x02\\x03\\x04'\n"
     ]
    }
   ],
   "source": [
    "# Binary files (Read)\n",
    "\n",
    "with open('./example.bin', 'rb') as file:\n",
    "      content=file.read()\n",
    "      print(content)"
   ]
  },
  {
   "cell_type": "code",
   "execution_count": 25,
   "metadata": {},
   "outputs": [],
   "source": [
    "# Task => Read the content from source text file and write to a destination text file.\n",
    "\n",
    "with open('./source.txt', 'r') as sourcefile:\n",
    "      content=sourcefile.read()\n",
    "\n",
    "with open('./destination.txt', 'w') as destinationfile:\n",
    "      destinationfile.write(content)"
   ]
  },
  {
   "cell_type": "code",
   "execution_count": 30,
   "metadata": {},
   "outputs": [
    {
     "name": "stdout",
     "output_type": "stream",
     "text": [
      "d:\\Study\\Coading New Start\\ML journey\\Assignments\\assignment_solution\\Sec 9 File Handling\\file.txt\n"
     ]
    }
   ],
   "source": [
    "# How to make a path.\n",
    "import os\n",
    "dir_name = \"folder\"\n",
    "file_name = 'file.txt'\n",
    "\n",
    "# full_path = os.path.join(os.getcwd(), dir_name, file_name)\n",
    "full_path = os.path.abspath(file_name)\n",
    "print(full_path) "
   ]
  }
 ],
 "metadata": {
  "kernelspec": {
   "display_name": "Python 3",
   "language": "python",
   "name": "python3"
  },
  "language_info": {
   "codemirror_mode": {
    "name": "ipython",
    "version": 3
   },
   "file_extension": ".py",
   "mimetype": "text/x-python",
   "name": "python",
   "nbconvert_exporter": "python",
   "pygments_lexer": "ipython3",
   "version": "3.12.0"
  }
 },
 "nbformat": 4,
 "nbformat_minor": 2
}
