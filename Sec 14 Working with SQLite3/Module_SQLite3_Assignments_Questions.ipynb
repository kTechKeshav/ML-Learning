{
 "cells": [
  {
   "cell_type": "markdown",
   "id": "964cf61d",
   "metadata": {},
   "source": [
    "# Module: SQLite3 Assignments\n",
    "## Lesson: SQLite3\n",
    "### Assignment 1: Creating and Connecting to a Database\n",
    "\n",
    "1. Write a Python function to create a new SQLite3 database named `test.db`.\n",
    "2. Write a Python function to create a table named `employees` with columns `id` (integer), `name` (text), `age` (integer), and `department` (text) in the `test.db` database.\n",
    "\n",
    "### Assignment 2: Inserting Data\n",
    "\n",
    "1. Write a Python function to insert a new employee into the `employees` table.\n",
    "2. Insert at least 5 different employees into the `employees` table.\n",
    "\n",
    "### Assignment 3: Querying Data\n",
    "\n",
    "1. Write a Python function to fetch and display all records from the `employees` table.\n",
    "2. Write a Python function to fetch and display all employees from a specific department.\n",
    "\n",
    "### Assignment 4: Updating Data\n",
    "\n",
    "1. Write a Python function to update the department of an employee based on their `id`.\n",
    "2. Update the department of at least 2 employees and display the updated records.\n",
    "\n",
    "### Assignment 5: Deleting Data\n",
    "\n",
    "1. Write a Python function to delete an employee from the `employees` table based on their `id`.\n",
    "2. Delete at least 1 employee and display the remaining records.\n",
    "\n",
    "### Assignment 6: Advanced Queries\n",
    "\n",
    "1. Write a Python function to fetch and display employees older than a certain age.\n",
    "2. Write a Python function to fetch and display employees whose names start with a specific letter.\n",
    "\n",
    "### Assignment 7: Handling Transactions\n",
    "\n",
    "1. Write a Python function to insert multiple employees into the `employees` table in a single transaction. Ensure that if any insertion fails, none of the insertions are committed.\n",
    "2. Write a Python function to update the age of multiple employees in a single transaction. Ensure that if any update fails, none of the updates are committed.\n",
    "\n",
    "### Assignment 8: Creating Relationships\n",
    "\n",
    "1. Create a new table named `departments` with columns `id` (integer) and `name` (text).\n",
    "2. Modify the `employees` table to include a foreign key referencing the `id` column in the `departments` table.\n",
    "3. Write a Python function to insert data into both the `departments` and `employees` tables, ensuring referential integrity.\n",
    "\n",
    "### Assignment 9: Indexing and Optimization\n",
    "\n",
    "1. Create an index on the `name` column of the `employees` table.\n",
    "2. Write a Python function to fetch and display all employees whose names start with a specific letter. Compare the performance with and without the index.\n",
    "\n",
    "### Assignment 10: Backing Up and Restoring Data\n",
    "\n",
    "1. Write a Python function to back up the `test.db` database to a file named `backup.db`.\n",
    "2. Write a Python function to restore the `test.db` database from the `backup.db` file."
   ]
  },
  {
   "cell_type": "code",
   "execution_count": 3,
   "metadata": {},
   "outputs": [
    {
     "name": "stdout",
     "output_type": "stream",
     "text": [
      "Database created and successfully connected.\n"
     ]
    }
   ],
   "source": [
    "## Write a Python function to create a new SQLite3 database named `test.db`.\n",
    "\n",
    "import sqlite3\n",
    "\n",
    "def create_database():\n",
    "      conn=sqlite3.connect('test.db')\n",
    "      conn.close()\n",
    "      print(\"Database created and successfully connected.\")\n",
    "\n",
    "create_database()"
   ]
  },
  {
   "cell_type": "code",
   "execution_count": 4,
   "id": "cdc46302",
   "metadata": {},
   "outputs": [
    {
     "name": "stdout",
     "output_type": "stream",
     "text": [
      "Table employees created successfully\n"
     ]
    }
   ],
   "source": [
    "## Write a Python function to create a table named `employees` with columns `id` (integer), `name` (text), `age` (integer), and `department` (text) in the `test.db` database.\n",
    "\n",
    "def create_table():\n",
    "      conn = sqlite3.connect('test.db')\n",
    "      cursor = conn.cursor()\n",
    "      cursor.execute('''\n",
    "            Create table if not exists employee(\n",
    "                  id Integer primary key,\n",
    "                  name text not null,\n",
    "                  age Integer,\n",
    "                  department text\n",
    "            )\n",
    "      ''')\n",
    "\n",
    "      conn.commit()\n",
    "      conn.close()\n",
    "      print('Table employees created successfully')\n",
    "\n",
    "create_table()"
   ]
  },
  {
   "cell_type": "code",
   "execution_count": 5,
   "id": "7c40feba",
   "metadata": {},
   "outputs": [
    {
     "ename": "IntegrityError",
     "evalue": "UNIQUE constraint failed: employee.id",
     "output_type": "error",
     "traceback": [
      "\u001b[1;31m---------------------------------------------------------------------------\u001b[0m",
      "\u001b[1;31mIntegrityError\u001b[0m                            Traceback (most recent call last)",
      "Cell \u001b[1;32mIn[5], line 14\u001b[0m\n\u001b[0;32m     11\u001b[0m       conn\u001b[38;5;241m.\u001b[39mcommit()\n\u001b[0;32m     12\u001b[0m       conn\u001b[38;5;241m.\u001b[39mclose()\n\u001b[1;32m---> 14\u001b[0m \u001b[43minsert_employee\u001b[49m\u001b[43m(\u001b[49m\u001b[38;5;241;43m1\u001b[39;49m\u001b[43m,\u001b[49m\u001b[43m \u001b[49m\u001b[38;5;124;43m'\u001b[39;49m\u001b[38;5;124;43mAlice\u001b[39;49m\u001b[38;5;124;43m'\u001b[39;49m\u001b[43m,\u001b[49m\u001b[43m \u001b[49m\u001b[38;5;241;43m30\u001b[39;49m\u001b[43m,\u001b[49m\u001b[43m \u001b[49m\u001b[38;5;124;43m'\u001b[39;49m\u001b[38;5;124;43mHR\u001b[39;49m\u001b[38;5;124;43m'\u001b[39;49m\u001b[43m)\u001b[49m\n",
      "Cell \u001b[1;32mIn[5], line 7\u001b[0m, in \u001b[0;36minsert_employee\u001b[1;34m(id, name, age, department)\u001b[0m\n\u001b[0;32m      4\u001b[0m conn \u001b[38;5;241m=\u001b[39m sqlite3\u001b[38;5;241m.\u001b[39mconnect(\u001b[38;5;124m'\u001b[39m\u001b[38;5;124mtest.db\u001b[39m\u001b[38;5;124m'\u001b[39m)\n\u001b[0;32m      5\u001b[0m cursor \u001b[38;5;241m=\u001b[39m conn\u001b[38;5;241m.\u001b[39mcursor()\n\u001b[1;32m----> 7\u001b[0m \u001b[43mcursor\u001b[49m\u001b[38;5;241;43m.\u001b[39;49m\u001b[43mexecute\u001b[49m\u001b[43m(\u001b[49m\u001b[38;5;124;43m'''\u001b[39;49m\n\u001b[0;32m      8\u001b[0m \u001b[38;5;124;43m      Insert into employee (id, name, age, department)\u001b[39;49m\n\u001b[0;32m      9\u001b[0m \u001b[38;5;124;43m      values (?, ?, ?, ?)\u001b[39;49m\n\u001b[0;32m     10\u001b[0m \u001b[38;5;124;43m\u001b[39;49m\u001b[38;5;124;43m'''\u001b[39;49m\u001b[43m,\u001b[49m\u001b[43m \u001b[49m\u001b[43m(\u001b[49m\u001b[38;5;28;43mid\u001b[39;49m\u001b[43m,\u001b[49m\u001b[43m \u001b[49m\u001b[43mname\u001b[49m\u001b[43m,\u001b[49m\u001b[43m \u001b[49m\u001b[43mage\u001b[49m\u001b[43m,\u001b[49m\u001b[43m \u001b[49m\u001b[43mdepartment\u001b[49m\u001b[43m)\u001b[49m\u001b[43m)\u001b[49m\n\u001b[0;32m     11\u001b[0m conn\u001b[38;5;241m.\u001b[39mcommit()\n\u001b[0;32m     12\u001b[0m conn\u001b[38;5;241m.\u001b[39mclose()\n",
      "\u001b[1;31mIntegrityError\u001b[0m: UNIQUE constraint failed: employee.id"
     ]
    }
   ],
   "source": [
    "## Write a Python function to insert a new employee into the `employees` table.\n",
    "\n",
    "def insert_employee(id, name, age, department):\n",
    "      conn = sqlite3.connect('test.db')\n",
    "      cursor = conn.cursor()\n",
    "\n",
    "      cursor.execute('''\n",
    "            Insert into employee (id, name, age, department)\n",
    "            values (?, ?, ?, ?)\n",
    "      ''', (id, name, age, department))\n",
    "      conn.commit()\n",
    "      conn.close()\n",
    "\n",
    "insert_employee(1, 'Alice', 30, 'HR')"
   ]
  },
  {
   "cell_type": "code",
   "execution_count": 14,
   "id": "645bd2fb",
   "metadata": {},
   "outputs": [],
   "source": [
    "## Insert at least 5 different employees into the `employees` table.\n",
    "\n",
    "insert_employee(2, 'Bob', 25, 'Engineering')\n",
    "insert_employee(3, 'Charlie', 28, 'Sales')\n",
    "insert_employee(4, 'David', 35, 'Marketing')\n",
    "insert_employee(5, 'Eve', 22, 'HR')"
   ]
  },
  {
   "cell_type": "code",
   "execution_count": 6,
   "id": "e0ac6cb4",
   "metadata": {},
   "outputs": [
    {
     "name": "stdout",
     "output_type": "stream",
     "text": [
      "(1, 'Alice', 30, 'Finance')\n",
      "(2, 'Bob', 25, 'Research')\n",
      "(3, 'Charlie', 28, 'Customer Support')\n",
      "(4, 'David', 35, 'Marketing')\n"
     ]
    }
   ],
   "source": [
    "## Write a Python function to fetch and display all records from the `employees` table.\n",
    "\n",
    "def fetch_all_employees():\n",
    "      conn = sqlite3.connect('test.db')\n",
    "      cursor = conn.cursor()\n",
    "      cursor.execute('select * from employee')\n",
    "      records = cursor.fetchall()\n",
    "      conn.close()\n",
    "      for record in records:\n",
    "            print(record)\n",
    "fetch_all_employees()"
   ]
  },
  {
   "cell_type": "code",
   "execution_count": 32,
   "id": "d89d14da",
   "metadata": {},
   "outputs": [],
   "source": [
    "## Write a Python function to fetch and display all employees from a specific department.\n",
    "\n",
    "def fetch_employees_by_department(department):\n",
    "      conn = sqlite3.connect('test.db')\n",
    "      cursor = conn.cursor()\n",
    "\n",
    "      cursor.execute('select * from employee where department = ?', (department,))\n",
    "      records = cursor.fetchall()\n",
    "      conn.close()\n",
    "      for record in records:\n",
    "            print(record)\n",
    "\n",
    "fetch_employees_by_department('HR')\n"
   ]
  },
  {
   "cell_type": "code",
   "execution_count": 33,
   "id": "dcc615ac",
   "metadata": {},
   "outputs": [
    {
     "ename": "OperationalError",
     "evalue": "database is locked",
     "output_type": "error",
     "traceback": [
      "\u001b[1;31m---------------------------------------------------------------------------\u001b[0m",
      "\u001b[1;31mOperationalError\u001b[0m                          Traceback (most recent call last)",
      "Cell \u001b[1;32mIn[33], line 11\u001b[0m\n\u001b[0;32m      8\u001b[0m       conn\u001b[38;5;241m.\u001b[39mcommit()\n\u001b[0;32m      9\u001b[0m       conn\u001b[38;5;241m.\u001b[39mclose()\n\u001b[1;32m---> 11\u001b[0m \u001b[43mupdate_employee_department\u001b[49m\u001b[43m(\u001b[49m\u001b[38;5;241;43m1\u001b[39;49m\u001b[43m,\u001b[49m\u001b[43m \u001b[49m\u001b[38;5;124;43m'\u001b[39;49m\u001b[38;5;124;43mFinance\u001b[39;49m\u001b[38;5;124;43m'\u001b[39;49m\u001b[43m)\u001b[49m\n",
      "Cell \u001b[1;32mIn[33], line 7\u001b[0m, in \u001b[0;36mupdate_employee_department\u001b[1;34m(employee_id, new_departmrnt)\u001b[0m\n\u001b[0;32m      4\u001b[0m conn \u001b[38;5;241m=\u001b[39m sqlite3\u001b[38;5;241m.\u001b[39mconnect(\u001b[38;5;124m'\u001b[39m\u001b[38;5;124mtest.db\u001b[39m\u001b[38;5;124m'\u001b[39m)\n\u001b[0;32m      5\u001b[0m cursor \u001b[38;5;241m=\u001b[39m conn\u001b[38;5;241m.\u001b[39mcursor()\n\u001b[1;32m----> 7\u001b[0m \u001b[43mcursor\u001b[49m\u001b[38;5;241;43m.\u001b[39;49m\u001b[43mexecute\u001b[49m\u001b[43m(\u001b[49m\u001b[38;5;124;43m'\u001b[39;49m\u001b[38;5;124;43mUpdate employee set department = ? where id = ? \u001b[39;49m\u001b[38;5;124;43m'\u001b[39;49m\u001b[43m,\u001b[49m\u001b[43m \u001b[49m\u001b[43m(\u001b[49m\u001b[43mnew_departmrnt\u001b[49m\u001b[43m,\u001b[49m\u001b[43m \u001b[49m\u001b[43memployee_id\u001b[49m\u001b[43m)\u001b[49m\u001b[43m)\u001b[49m\n\u001b[0;32m      8\u001b[0m conn\u001b[38;5;241m.\u001b[39mcommit()\n\u001b[0;32m      9\u001b[0m conn\u001b[38;5;241m.\u001b[39mclose()\n",
      "\u001b[1;31mOperationalError\u001b[0m: database is locked"
     ]
    }
   ],
   "source": [
    "## Write a Python function to update the department of an employee based on their `id`.\n",
    "\n",
    "def update_employee_department(employee_id, new_departmrnt):\n",
    "      conn = sqlite3.connect('test.db')\n",
    "      cursor = conn.cursor()\n",
    "\n",
    "      cursor.execute('Update employee set department = ? where id = ? ', (new_departmrnt, employee_id))\n",
    "      conn.commit()\n",
    "      conn.close()\n",
    "\n",
    "update_employee_department(1, 'Finance')"
   ]
  },
  {
   "cell_type": "code",
   "execution_count": 1,
   "id": "a45a7de7",
   "metadata": {},
   "outputs": [
    {
     "ename": "NameError",
     "evalue": "name 'update_employee_department' is not defined",
     "output_type": "error",
     "traceback": [
      "\u001b[1;31m---------------------------------------------------------------------------\u001b[0m",
      "\u001b[1;31mNameError\u001b[0m                                 Traceback (most recent call last)",
      "Cell \u001b[1;32mIn[1], line 3\u001b[0m\n\u001b[0;32m      1\u001b[0m \u001b[38;5;66;03m## Update the department of at least 2 employees and display the updated records.\u001b[39;00m\n\u001b[1;32m----> 3\u001b[0m \u001b[43mupdate_employee_department\u001b[49m(\u001b[38;5;241m2\u001b[39m, \u001b[38;5;124m'\u001b[39m\u001b[38;5;124mResearch\u001b[39m\u001b[38;5;124m'\u001b[39m)\n\u001b[0;32m      4\u001b[0m update_employee_department(\u001b[38;5;241m3\u001b[39m, \u001b[38;5;124m'\u001b[39m\u001b[38;5;124mCustomer Support\u001b[39m\u001b[38;5;124m'\u001b[39m)\n\u001b[0;32m      6\u001b[0m \u001b[38;5;66;03m# Fetch and display all records\u001b[39;00m\n",
      "\u001b[1;31mNameError\u001b[0m: name 'update_employee_department' is not defined"
     ]
    }
   ],
   "source": [
    "## Update the department of at least 2 employees and display the updated records.\n",
    "\n",
    "update_employee_department(2, 'Research')\n",
    "update_employee_department(3, 'Customer Support')\n",
    "\n",
    "# Fetch and display all records\n",
    "fetch_all_employees()"
   ]
  },
  {
   "cell_type": "code",
   "execution_count": 34,
   "id": "a065c94c",
   "metadata": {},
   "outputs": [
    {
     "name": "stdout",
     "output_type": "stream",
     "text": [
      "Employee deleted successfully.\n"
     ]
    }
   ],
   "source": [
    "## Write a Python function to delete an employee from the `employees` table based on their `id`.\n",
    "\n",
    "def delete_employee(id):\n",
    "      conn= sqlite3.connect('test.db')\n",
    "      cursor = conn.cursor()\n",
    "\n",
    "      cursor.execute('''\n",
    "            DELETE FROM employee\n",
    "            WHERE id=?\n",
    "\n",
    "      ''', (id,))\n",
    "      conn.commit()\n",
    "      conn.close()\n",
    "      print(\"Employee deleted successfully.\")\n",
    "\n",
    "delete_employee(5)"
   ]
  },
  {
   "cell_type": "code",
   "execution_count": 11,
   "id": "9ed30a09",
   "metadata": {},
   "outputs": [
    {
     "name": "stdout",
     "output_type": "stream",
     "text": [
      "(1, 'Alice', 30, 'Finance')\n",
      "(4, 'David', 35, 'Marketing')\n"
     ]
    }
   ],
   "source": [
    "## Write a Python function to fetch and display employees older than a certain age.\n",
    "\n",
    "def fetch_employees_older_than(age):\n",
    "      conn = sqlite3.connect('test.db')\n",
    "      cursor = conn.cursor()\n",
    "\n",
    "      cursor.execute('''\n",
    "            SELECT * FROM EMPLOYEE WHERE age > ?\n",
    "      ''', (age,))\n",
    "\n",
    "      records = cursor.fetchall()\n",
    "      conn.close()\n",
    "      for record in records:\n",
    "            print(record)\n",
    "\n",
    "\n",
    "fetch_employees_older_than(29)"
   ]
  },
  {
   "cell_type": "code",
   "execution_count": 13,
   "id": "5fe6d737",
   "metadata": {},
   "outputs": [
    {
     "name": "stdout",
     "output_type": "stream",
     "text": [
      "(1, 'Alice', 30, 'Finance')\n"
     ]
    }
   ],
   "source": [
    "## Write a Python function to fetch and display employees whose names start with a specific letter.\n",
    "\n",
    "def fetch_employees_name_starts_with(letter):\n",
    "      conn = sqlite3.connect('test.db')\n",
    "      cursor = conn.cursor()\n",
    "\n",
    "      cursor.execute('select * from employee where name like ?', (letter+\"%\",))\n",
    "      records = cursor.fetchall()\n",
    "      conn.close()\n",
    "\n",
    "      for record in records:\n",
    "            print(record)\n",
    "\n",
    "fetch_employees_name_starts_with('A')"
   ]
  },
  {
   "cell_type": "code",
   "execution_count": 16,
   "id": "c9863257",
   "metadata": {},
   "outputs": [
    {
     "name": "stdout",
     "output_type": "stream",
     "text": [
      "(1, 'Alice', 30, 'Finance')\n",
      "(2, 'Bob', 25, 'Research')\n",
      "(3, 'Charlie', 28, 'Customer Support')\n",
      "(4, 'David', 35, 'Marketing')\n",
      "All employees inserted successfully\n",
      "(1, 'Alice', 30, 'Finance')\n",
      "(2, 'Bob', 25, 'Research')\n",
      "(3, 'Charlie', 28, 'Customer Support')\n",
      "(4, 'David', 35, 'Marketing')\n",
      "(6, 'Frank', 40, 'Finance')\n",
      "(7, 'Grace', 29, 'Engineering')\n",
      "(8, 'Hannah', 35, 'Marketing')\n",
      "(9, 'Ivan', 38, 'Sales')\n"
     ]
    }
   ],
   "source": [
    "## Write a Python function to insert multiple employees into the `employees` table in a single transaction. Ensure that if any insertion fails, none of the insertions are committed.\n",
    "\n",
    "def insert_multiple_employees(employees):\n",
    "      conn = sqlite3.connect('test.db')\n",
    "      cursor = conn.cursor()\n",
    "\n",
    "      try:\n",
    "            cursor.executemany('''\n",
    "                  INSERT INTO employee (id, name, age, department)\n",
    "                  values (?, ?, ?, ?)\n",
    "            ''', employees)\n",
    "            conn.commit()\n",
    "            print('All employees inserted successfully')\n",
    "      except Exception as e:\n",
    "            conn.rollback()\n",
    "            print('Error occured, transaction rolled back')\n",
    "            print(e)\n",
    "      finally:\n",
    "            conn.close()\n",
    "\n",
    "# fetch_all_employees()\n",
    "employees = [\n",
    "    (6, 'Frank', 40, 'Finance'),\n",
    "    (7, 'Grace', 29, 'Engineering'),\n",
    "    (8, 'Hannah', 35, 'Marketing'),\n",
    "    (9, 'Ivan', 38, 'Sales'),\n",
    "#     (6, 'Jack', 45, 'HR')  # Duplicate ID to cause an error\n",
    "]\n",
    "insert_multiple_employees(employees)\n",
    "\n",
    "fetch_all_employees()"
   ]
  },
  {
   "cell_type": "code",
   "execution_count": 2,
   "id": "feebb220",
   "metadata": {},
   "outputs": [
    {
     "name": "stdout",
     "output_type": "stream",
     "text": [
      "Error occurred, transaction rolled back.\n",
      "no such table: employees\n"
     ]
    }
   ],
   "source": [
    "## Write a Python function to update the age of multiple employees in a single transaction. Ensure that if any update fails, none of the updates are committed.\n",
    "\n",
    "import sqlite3\n",
    "\n",
    "def update_multiple_employees_ages(updates):\n",
    "    conn = sqlite3.connect('test.db')\n",
    "    cursor = conn.cursor()\n",
    "    try:\n",
    "        cursor.executemany('''\n",
    "            UPDATE employees\n",
    "            SET age = ?\n",
    "            WHERE id = ?\n",
    "        ''', updates)\n",
    "        conn.commit()\n",
    "        print(\"All employee ages updated successfully.\")\n",
    "    except Exception as e:\n",
    "        conn.rollback()\n",
    "        print(\"Error occurred, transaction rolled back.\")\n",
    "        print(e)\n",
    "    finally:\n",
    "        conn.close()\n",
    "\n",
    "# Test the function with valid and invalid data\n",
    "updates = [\n",
    "    (32, 1),\n",
    "    (26, 2),\n",
    "    (33, 3),\n",
    "    (41, 4),  # Non-existing ID to cause an error\n",
    "    (23, 5)\n",
    "]\n",
    "update_multiple_employees_ages(updates)"
   ]
  },
  {
   "cell_type": "code",
   "execution_count": 3,
   "id": "85e1c431",
   "metadata": {},
   "outputs": [
    {
     "name": "stdout",
     "output_type": "stream",
     "text": [
      "Table 'department created successfully'\n"
     ]
    }
   ],
   "source": [
    "## Create a new table named `departments` with columns `id` (integer) and `name` (text).\n",
    "\n",
    "def create_department_table():\n",
    "      conn = sqlite3.connect('test.db')\n",
    "      cursor = conn.cursor()\n",
    "\n",
    "      cursor.execute('''\n",
    "            CREATE TABLE IF NOT EXISTS departments(\n",
    "                  id INTEGER PRIMARY KEY,\n",
    "                  name TEXT NOT NULL\n",
    "            )\n",
    "      ''')\n",
    "\n",
    "      conn.commit()\n",
    "      conn.close()\n",
    "      print(\"Table 'department created successfully'\")\n",
    "\n",
    "create_department_table()"
   ]
  },
  {
   "cell_type": "code",
   "execution_count": null,
   "id": "2c883fe7",
   "metadata": {},
   "outputs": [],
   "source": []
  }
 ],
 "metadata": {
  "kernelspec": {
   "display_name": "Python 3",
   "language": "python",
   "name": "python3"
  },
  "language_info": {
   "codemirror_mode": {
    "name": "ipython",
    "version": 3
   },
   "file_extension": ".py",
   "mimetype": "text/x-python",
   "name": "python",
   "nbconvert_exporter": "python",
   "pygments_lexer": "ipython3",
   "version": "3.12.0"
  }
 },
 "nbformat": 4,
 "nbformat_minor": 5
}
