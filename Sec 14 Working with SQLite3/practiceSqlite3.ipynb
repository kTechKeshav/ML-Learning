{
 "cells": [
  {
   "cell_type": "code",
   "execution_count": 7,
   "metadata": {},
   "outputs": [],
   "source": [
    "import sqlite3"
   ]
  },
  {
   "cell_type": "code",
   "execution_count": 8,
   "metadata": {},
   "outputs": [],
   "source": [
    "## Connect to an SqLite database.\n",
    "\n",
    "connection=sqlite3.connect('example.db')\n",
    "# File will be created with name 'example.db'"
   ]
  },
  {
   "cell_type": "code",
   "execution_count": 9,
   "metadata": {},
   "outputs": [],
   "source": [
    "cursor=connection.cursor()"
   ]
  },
  {
   "cell_type": "code",
   "execution_count": 10,
   "metadata": {},
   "outputs": [],
   "source": [
    "## Create a Table.\n",
    "\n",
    "cursor.execute('''\n",
    "      Create table if not exists employees(\n",
    "            id Integer Primary Key,\n",
    "            name VARCHAR(100) NOT Null,\n",
    "            age Integer,\n",
    "            department text\n",
    "      );\n",
    "''')\n",
    "\n",
    "## Commit the changes\n",
    "connection.commit()"
   ]
  },
  {
   "cell_type": "code",
   "execution_count": 11,
   "metadata": {},
   "outputs": [],
   "source": [
    "table=cursor.execute('''\n",
    "      select * from employees;\n",
    "''')\n",
    "\n",
    " "
   ]
  },
  {
   "cell_type": "code",
   "execution_count": 12,
   "metadata": {},
   "outputs": [
    {
     "ename": "OperationalError",
     "evalue": "unrecognized token: \"')\n\"",
     "output_type": "error",
     "traceback": [
      "\u001b[1;31m---------------------------------------------------------------------------\u001b[0m",
      "\u001b[1;31mOperationalError\u001b[0m                          Traceback (most recent call last)",
      "Cell \u001b[1;32mIn[12], line 3\u001b[0m\n\u001b[0;32m      1\u001b[0m \u001b[38;5;66;03m## Insert the data in the sqLite3 table.\u001b[39;00m\n\u001b[1;32m----> 3\u001b[0m \u001b[43mcursor\u001b[49m\u001b[38;5;241;43m.\u001b[39;49m\u001b[43mexecute\u001b[49m\u001b[43m(\u001b[49m\u001b[38;5;124;43m'''\u001b[39;49m\n\u001b[0;32m      4\u001b[0m \u001b[38;5;124;43m      Insert into employees (id, name, age, department)\u001b[39;49m\n\u001b[0;32m      5\u001b[0m \u001b[38;5;124;43m      values\u001b[39;49m\n\u001b[0;32m      6\u001b[0m \u001b[38;5;124;43m      (92, \u001b[39;49m\u001b[38;5;124;43m'\u001b[39;49m\u001b[38;5;124;43mPrateek Kumar Dubey\u001b[39;49m\u001b[38;5;124;43m'\u001b[39;49m\u001b[38;5;124;43m, 22, \u001b[39;49m\u001b[38;5;124;43m'\u001b[39;49m\u001b[38;5;124;43mUX/UI\u001b[39;49m\u001b[38;5;124;43m'\u001b[39;49m\u001b[38;5;124;43m),\u001b[39;49m\n\u001b[0;32m      7\u001b[0m \u001b[38;5;124;43m      (18, \u001b[39;49m\u001b[38;5;124;43m'\u001b[39;49m\u001b[38;5;124;43m)\u001b[39;49m\n\u001b[0;32m      8\u001b[0m \u001b[38;5;124;43m'''\u001b[39;49m\u001b[43m)\u001b[49m\n\u001b[0;32m     10\u001b[0m connection\u001b[38;5;241m.\u001b[39mcommit()\n",
      "\u001b[1;31mOperationalError\u001b[0m: unrecognized token: \"')\n\""
     ]
    }
   ],
   "source": [
    "## Insert the data in the sqLite3 table.\n",
    "\n",
    "cursor.execute('''\n",
    "      Insert into employees (id, name, age, department)\n",
    "      values\n",
    "      (92, 'Prateek Kumar Dubey', 22, 'UX/UI'),\n",
    "      (18, ')\n",
    "''')\n",
    "\n",
    "connection.commit()"
   ]
  },
  {
   "cell_type": "code",
   "execution_count": 17,
   "metadata": {},
   "outputs": [
    {
     "data": {
      "text/plain": [
       "[(37, 'Kavya Gupta', 18, 'DAA'),\n",
       " (85, 'Keshav Awasthi', 22, 'COA'),\n",
       " (91, 'Mayank Kumar', 21, 'DBMS')]"
      ]
     },
     "execution_count": 17,
     "metadata": {},
     "output_type": "execute_result"
    }
   ],
   "source": [
    "## Query the data from the table.\n",
    "\n",
    "cursor.execute('Select * from employees')\n",
    "rows= cursor.fetchall()\n",
    "\n",
    "rows"
   ]
  },
  {
   "cell_type": "code",
   "execution_count": 14,
   "metadata": {},
   "outputs": [],
   "source": [
    "## Update the data in the table.arraysize\n",
    "\n",
    "cursor.execute('Update employees set age=18 where id=37')\n",
    "connection.commit()"
   ]
  },
  {
   "cell_type": "code",
   "execution_count": 18,
   "metadata": {},
   "outputs": [],
   "source": [
    "## Delete the row from the table.\n",
    "\n",
    "cursor.execute('Delete from employees where id=84')\n",
    "connection.commit()"
   ]
  },
  {
   "cell_type": "markdown",
   "metadata": {},
   "source": [
    "### Ques Practice"
   ]
  },
  {
   "cell_type": "code",
   "execution_count": 29,
   "metadata": {},
   "outputs": [],
   "source": [
    "connection=sqlite3.connect('sales_data.db')\n",
    "cursor=connection.cursor()\n",
    "\n",
    "# Create a table for sales data.\n",
    "\n",
    "cursor.execute('''\n",
    "      create table if not exists sales (\n",
    "            id Integer primary key,\n",
    "            date text not null,\n",
    "            product text not null,\n",
    "            sales Integer,\n",
    "            region text\n",
    "      )\n",
    "''')\n",
    "\n",
    "connection.commit()"
   ]
  },
  {
   "cell_type": "code",
   "execution_count": 30,
   "metadata": {},
   "outputs": [],
   "source": [
    "sales_data = [\n",
    "      (1, '2023-01-01', 'Product1', 100, 'North'),\n",
    "      (2, '2023-01-02', 'Product2', 200, 'West'),\n",
    "      (3, '2023-01-03', 'Product3', 150, 'South'),\n",
    "      (4, '2023-01-04', 'Product4', 450, 'North')\n",
    "]"
   ]
  },
  {
   "cell_type": "code",
   "execution_count": 33,
   "metadata": {},
   "outputs": [
    {
     "data": {
      "text/plain": [
       "[(1, '2023-01-01', 'Product1', 100, 'North'),\n",
       " (2, '2023-01-02', 'Product2', 200, 'West'),\n",
       " (3, '2023-01-03', 'Product3', 150, 'South'),\n",
       " (4, '2023-01-04', 'Product4', 450, 'North')]"
      ]
     },
     "execution_count": 33,
     "metadata": {},
     "output_type": "execute_result"
    }
   ],
   "source": [
    "cursor.execute('''select * from sales''')\n",
    "rows=cursor.fetchall()\n",
    "\n",
    "rows"
   ]
  },
  {
   "cell_type": "code",
   "execution_count": 32,
   "metadata": {},
   "outputs": [],
   "source": [
    "cursor.executemany('''\n",
    "      Insert into sales(id, date, product, sales, region) values(?, ?, ?, ?, ?)\n",
    "''', sales_data)\n",
    "\n",
    "connection.commit()"
   ]
  },
  {
   "cell_type": "code",
   "execution_count": 27,
   "metadata": {},
   "outputs": [],
   "source": [
    "## Permanent close the connection\n",
    "\n",
    "connection.close()"
   ]
  }
 ],
 "metadata": {
  "kernelspec": {
   "display_name": "Python 3",
   "language": "python",
   "name": "python3"
  },
  "language_info": {
   "codemirror_mode": {
    "name": "ipython",
    "version": 3
   },
   "file_extension": ".py",
   "mimetype": "text/x-python",
   "name": "python",
   "nbconvert_exporter": "python",
   "pygments_lexer": "ipython3",
   "version": "3.12.0"
  }
 },
 "nbformat": 4,
 "nbformat_minor": 2
}
