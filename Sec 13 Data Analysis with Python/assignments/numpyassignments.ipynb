{
 "cells": [
  {
   "cell_type": "markdown",
   "metadata": {},
   "source": [
    "# Module: NumPy Assignments\n",
    "## Lesson: NumPy\n",
    "### Assignment 1: Array Creation and Manipulation✅\n",
    "\n",
    "1. Create a NumPy array of shape (5, 5) filled with random integers between 1 and 20. Replace all the elements in the third column with 1.\n",
    "2. Create a NumPy array of shape (4, 4) with values from 1 to 16. Replace the diagonal elements with 0.\n",
    "\n",
    "### Assignment 2: Array Indexing and Slicing\n",
    "\n",
    "1. Create a NumPy array of shape (6, 6) with values from 1 to 36. Extract the sub-array consisting of the 3rd to 5th rows and 2nd to 4th columns.\n",
    "2. Create a NumPy array of shape (5, 5) with random integers. Extract the elements on the border.\n",
    "\n",
    "### Assignment 3: Array Operations\n",
    "\n",
    "1. Create two NumPy arrays of shape (3, 4) filled with random integers. Perform element-wise addition, subtraction, multiplication, and division.\n",
    "2. Create a NumPy array of shape (4, 4) with values from 1 to 16. Compute the row-wise and column-wise sum.\n",
    "\n",
    "### Assignment 4: Statistical Operations\n",
    "\n",
    "1. Create a NumPy array of shape (5, 5) filled with random integers. Compute the mean, median, standard deviation, and variance of the array.\n",
    "2. Create a NumPy array of shape (3, 3) with values from 1 to 9. Normalize the array (i.e., scale the values to have a mean of 0 and a standard deviation of 1).\n",
    "\n",
    "### Assignment 5: Broadcasting\n",
    "\n",
    "1. Create a NumPy array of shape (3, 3) filled with random integers. Add a 1D array of shape (3,) to each row of the 2D array using broadcasting.\n",
    "2. Create a NumPy array of shape (4, 4) filled with random integers. Subtract a 1D array of shape (4,) from each column of the 2D array using broadcasting.\n",
    "\n",
    "### Assignment 6: Linear Algebra\n",
    "\n",
    "1. Create a NumPy array of shape (3, 3) representing a matrix. Compute its determinant, inverse, and eigenvalues.\n",
    "2. Create two NumPy arrays of shape (2, 3) and (3, 2). Perform matrix multiplication on these arrays.\n",
    "\n",
    "### Assignment 7: Advanced Array Manipulation\n",
    "\n",
    "1. Create a NumPy array of shape (3, 3) with values from 1 to 9. Reshape the array to shape (1, 9) and then to shape (9, 1).\n",
    "2. Create a NumPy array of shape (5, 5) filled with random integers. Flatten the array and then reshape it back to (5, 5).\n",
    "\n",
    "### Assignment 8: Fancy Indexing and Boolean Indexing\n",
    "\n",
    "1. Create a NumPy array of shape (5, 5) filled with random integers. Use fancy indexing to extract the elements at the corners of the array.\n",
    "2. Create a NumPy array of shape (4, 4) filled with random integers. Use boolean indexing to set all elements greater than 10 to 10.\n",
    "\n",
    "### Assignment 9: Structured Arrays\n",
    "\n",
    "1. Create a structured array with fields 'name' (string), 'age' (integer), and 'weight' (float). Add some data and sort the array by age.\n",
    "2. Create a structured array with fields 'x' and 'y' (both integers). Add some data and compute the Euclidean distance between each pair of points.\n",
    "\n",
    "### Assignment 10: Masked Arrays\n",
    "\n",
    "1. Create a masked array of shape (4, 4) with random integers and mask the elements greater than 10. Compute the sum of the unmasked elements.\n",
    "2. Create a masked array of shape (3, 3) with random integers and mask the diagonal elements. Replace the masked elements with the mean of the unmasked elements."
   ]
  },
  {
   "cell_type": "code",
   "execution_count": 2,
   "metadata": {},
   "outputs": [
    {
     "name": "stdout",
     "output_type": "stream",
     "text": [
      "Original array:\n",
      "[[14  2 20 19 11]\n",
      " [ 6  3 16 18 18]\n",
      " [15 20 10 18 18]\n",
      " [14  3 20 14  9]\n",
      " [18  4  9 10 16]]\n",
      "Modified array:\n",
      "[[14  2  1 19 11]\n",
      " [ 6  3  1 18 18]\n",
      " [15 20  1 18 18]\n",
      " [14  3  1 14  9]\n",
      " [18  4  1 10 16]]\n"
     ]
    }
   ],
   "source": [
    "## Create a NumPy array of shape (5, 5) filled with random integers between 1 and 20. Replace all the elements in the third column with 1.\n",
    "\n",
    "import numpy as np\n",
    "\n",
    "array = np.random.randint(1, 21, size=(5, 5))\n",
    "print(\"Original array:\")\n",
    "print(array)\n",
    "\n",
    "array[:, 2] = 1\n",
    "print(\"Modified array:\")\n",
    "print(array)"
   ]
  },
  {
   "cell_type": "code",
   "execution_count": null,
   "id": "7db535ab",
   "metadata": {},
   "outputs": [
    {
     "data": {
      "text/plain": [
       "array([[ 0,  2,  3,  4],\n",
       "       [ 5,  0,  7,  8],\n",
       "       [ 9, 10,  0, 12],\n",
       "       [13, 14, 15,  0]])"
      ]
     },
     "execution_count": 3,
     "metadata": {},
     "output_type": "execute_result"
    }
   ],
   "source": [
    "## Create a NumPy array of shape (4, 4) with values from 1 to 16. Replace the diagonal elements with 0.\n",
    "\n",
    "array = np.array([x for x  in range(1, 17)]).reshape(4, 4)\n",
    "\n",
    "np.fill_diagonal(array, 0)\n",
    "array"
   ]
  },
  {
   "cell_type": "code",
   "execution_count": 4,
   "id": "6d1d8cb3",
   "metadata": {},
   "outputs": [
    {
     "name": "stdout",
     "output_type": "stream",
     "text": [
      "[[ 1  2  3  4  5  6]\n",
      " [ 7  8  9 10 11 12]\n",
      " [13 14 15 16 17 18]\n",
      " [19 20 21 22 23 24]\n",
      " [25 26 27 28 29 30]\n",
      " [31 32 33 34 35 36]]\n"
     ]
    },
    {
     "data": {
      "text/plain": [
       "array([[14, 15, 16],\n",
       "       [20, 21, 22],\n",
       "       [26, 27, 28]])"
      ]
     },
     "execution_count": 4,
     "metadata": {},
     "output_type": "execute_result"
    }
   ],
   "source": [
    "# Create a NumPy array of shape (6, 6) with values from 1 to 36. Extract the sub-array consisting of the 3rd to 5th rows and 2nd to 4th columns.\n",
    "\n",
    "array = np.arange(1, 37).reshape((6, 6))\n",
    "print(array)\n",
    "\n",
    "array[2 : 5, 1 : 4]"
   ]
  },
  {
   "cell_type": "code",
   "execution_count": 5,
   "id": "660ae0ca",
   "metadata": {},
   "outputs": [
    {
     "name": "stdout",
     "output_type": "stream",
     "text": [
      "Original array:\n",
      "[[12  7 10  8 15]\n",
      " [ 8 15  7 20 16]\n",
      " [ 1 12 10  3  4]\n",
      " [11  3  3 11 14]\n",
      " [ 9 15 14 20 16]]\n",
      "Border elements:\n",
      "[12  7 10  8 15  9 15 14 20 16  8  1 11 16  4 14]\n"
     ]
    }
   ],
   "source": [
    "## Create a NumPy array of shape (5, 5) with random integers. Extract the elements on the border.\n",
    "\n",
    "array = np.random.randint(1, 21, size=(5, 5))\n",
    "print(\"Original array:\")\n",
    "print(array)\n",
    "\n",
    "# Extract the elements on the border\n",
    "border_elements = np.concatenate((array[0, :], array[-1, :], array[1:-1, 0], array[1:-1, -1]))\n",
    "print(\"Border elements:\")\n",
    "print(border_elements)"
   ]
  },
  {
   "cell_type": "code",
   "execution_count": 6,
   "id": "5686339e",
   "metadata": {},
   "outputs": [
    {
     "name": "stdout",
     "output_type": "stream",
     "text": [
      "Array 1:\n",
      "[[ 5  9  7  9]\n",
      " [10 10  7  8]\n",
      " [ 1  7  8  3]]\n",
      "Array 2:\n",
      "[[ 4  9  6  7]\n",
      " [ 8 10  9  2]\n",
      " [ 7  3  7  5]]\n"
     ]
    }
   ],
   "source": [
    "## Create two NumPy arrays of shape (3, 4) filled with random integers. Perform element-wise addition, subtraction, multiplication, and division.\n",
    "\n",
    "array1 = np.random.randint(1, 11, size=(3, 4))\n",
    "array2 = np.random.randint(1, 11, size=(3, 4))\n",
    "print(\"Array 1:\")\n",
    "print(array1)\n",
    "print(\"Array 2:\")\n",
    "print(array2)\n",
    "\n",
    "# Perform element-wise operations\n",
    "addition = array1 + array2\n",
    "subtraction = array1 - array2\n",
    "multiplication = array1 * array2\n",
    "division = array1 / array2\n"
   ]
  },
  {
   "cell_type": "code",
   "execution_count": 7,
   "id": "cb19baaa",
   "metadata": {},
   "outputs": [
    {
     "name": "stdout",
     "output_type": "stream",
     "text": [
      "[[ 1  2  3  4]\n",
      " [ 5  6  7  8]\n",
      " [ 9 10 11 12]\n",
      " [13 14 15 16]]\n",
      "Row-wise sum:\n",
      "[10 26 42 58]\n",
      "Column-wise sum:\n",
      "[28 32 36 40]\n"
     ]
    }
   ],
   "source": [
    "## Create a NumPy array of shape (4, 4) with values from 1 to 16. Compute the row-wise and column-wise sum.\n",
    "\n",
    "array = np.arange(1, 17).reshape(4, 4)\n",
    "print(array)\n",
    "\n",
    "row_sum = np.sum(array, axis=1)\n",
    "col_sum = np.sum(array, axis=0)\n",
    "\n",
    "print(\"Row-wise sum:\")\n",
    "print(row_sum)\n",
    "print(\"Column-wise sum:\")\n",
    "print(col_sum)"
   ]
  },
  {
   "cell_type": "code",
   "execution_count": 8,
   "id": "7b712ac1",
   "metadata": {},
   "outputs": [
    {
     "name": "stdout",
     "output_type": "stream",
     "text": [
      "13.2 12.0 6.554387843269576 42.96000000000001\n"
     ]
    }
   ],
   "source": [
    "## Create a NumPy array of shape (5, 5) filled with random integers. Compute the mean, median, standard deviation, and variance of the array.\n",
    "\n",
    "array = np.random.randint(1, 26, size=(5, 5))\n",
    "\n",
    "mean=np.mean(array)\n",
    "median=np.median(array)\n",
    "std_dev=np.std(array)\n",
    "var=np.var(array)\n",
    "\n",
    "print(mean, median, std_dev, var)\n"
   ]
  },
  {
   "cell_type": "code",
   "execution_count": 9,
   "id": "b0816829",
   "metadata": {},
   "outputs": [
    {
     "data": {
      "text/plain": [
       "array([[-1.54919334, -1.161895  , -0.77459667],\n",
       "       [-0.38729833,  0.        ,  0.38729833],\n",
       "       [ 0.77459667,  1.161895  ,  1.54919334]])"
      ]
     },
     "execution_count": 9,
     "metadata": {},
     "output_type": "execute_result"
    }
   ],
   "source": [
    "## Create a NumPy array of shape (3, 3) with values from 1 to 9. Normalize the array (i.e., scale the values to have a mean of 0 and a standard deviation of 1).\n",
    "\n",
    "array = np.arange(1, 10).reshape(3, 3)\n",
    "\n",
    "mean = np.mean(array)\n",
    "std_dev = np.std(array)\n",
    "\n",
    "normalized_array = (array - mean) / std_dev\n",
    "\n",
    "normalized_array\n"
   ]
  },
  {
   "cell_type": "code",
   "execution_count": 10,
   "id": "587f9734",
   "metadata": {},
   "outputs": [
    {
     "name": "stdout",
     "output_type": "stream",
     "text": [
      "[[36 45 42]\n",
      " [ 4  5  5]\n",
      " [52 35 44]]\n",
      "[9 9 7]\n",
      "[[45 54 49]\n",
      " [13 14 12]\n",
      " [61 44 51]]\n"
     ]
    }
   ],
   "source": [
    "## Create a NumPy array of shape (3, 3) filled with random integers. Add a 1D array of shape (3,) to each row of the 2D array using broadcasting.\n",
    "\n",
    "array = np.random.randint(2, 56, size=(3, 3))\n",
    "row_array = np.random.randint(1, 11, size=(3,))\n",
    "\n",
    "print(array)\n",
    "print(row_array)\n",
    "\n",
    "result = array + row_array\n",
    "print(result)"
   ]
  },
  {
   "cell_type": "code",
   "execution_count": 15,
   "id": "a6299cf5",
   "metadata": {},
   "outputs": [
    {
     "name": "stdout",
     "output_type": "stream",
     "text": [
      "[[ 6 20 36 28]\n",
      " [19  7 34 21]\n",
      " [41 37 42 21]\n",
      " [26  9 17 16]]\n",
      "[4 1 1 6]\n",
      "[[ 2 16 32 24]\n",
      " [18  6 33 20]\n",
      " [40 36 41 20]\n",
      " [20  3 11 10]]\n"
     ]
    }
   ],
   "source": [
    "## Create a NumPy array of shape (4, 4) filled with random integers. Subtract a 1D array of shape (4,) from each column of the 2D array using broadcasting.\n",
    "\n",
    "array = np.random.randint(3, 48, size=(4, 4))\n",
    "column_array=np.random.randint(1, 11, size=(4, ))\n",
    "\n",
    "print(array)\n",
    "print(column_array)\n",
    "\n",
    "result=array - column_array[:, np.newaxis]\n",
    "print(result)"
   ]
  },
  {
   "cell_type": "code",
   "execution_count": 20,
   "id": "acd3e195",
   "metadata": {},
   "outputs": [
    {
     "name": "stdout",
     "output_type": "stream",
     "text": [
      "Original matrix:\n",
      "[[ 2  2  4]\n",
      " [ 3 11  3]\n",
      " [11  1  6]]\n",
      "Determinant: -315.9999999999998\n",
      "Inverse :\n",
      "[[-0.19936709  0.02531646  0.12025316]\n",
      " [-0.04746835  0.10126582 -0.01898734]\n",
      " [ 0.37341772 -0.06329114 -0.05063291]]\n",
      "Eigenvalues: [-2.87535598  7.817844   14.05751198]\n"
     ]
    }
   ],
   "source": [
    "## Create a NumPy array of shape (3, 3) representing a matrix. Compute its determinant, inverse, and eigenvalues.\n",
    "\n",
    "matrix=np.random.randint(1, 20, size=(3, 3))\n",
    "print(\"Original matrix:\")\n",
    "print(matrix)\n",
    "\n",
    "determinant=np.linalg.det(matrix)\n",
    "print(\"Determinant:\", determinant)\n",
    "\n",
    "inverse=np.linalg.inv(matrix)\n",
    "print(\"Inverse :\")\n",
    "print(inverse)\n",
    "\n",
    "eigenvalues = np.linalg.eigvals(matrix)\n",
    "print(\"Eigenvalues:\", eigenvalues)"
   ]
  },
  {
   "cell_type": "code",
   "execution_count": 21,
   "id": "e0b524bf",
   "metadata": {},
   "outputs": [
    {
     "name": "stdout",
     "output_type": "stream",
     "text": [
      "[[285 295]\n",
      " [309 334]]\n"
     ]
    }
   ],
   "source": [
    "## Create two NumPy arrays of shape (2, 3) and (3, 2). Perform matrix multiplication on these arrays.\n",
    "\n",
    "arr1 = np.random.randint(1, 21, size=(2, 3))\n",
    "arr2 = np.random.randint(1, 21, size=(3, 2))\n",
    "\n",
    "result=np.dot(arr1, arr2)\n",
    "print(result)"
   ]
  },
  {
   "cell_type": "code",
   "execution_count": 24,
   "id": "e7c47ec9",
   "metadata": {},
   "outputs": [
    {
     "name": "stdout",
     "output_type": "stream",
     "text": [
      "[[1]\n",
      " [2]\n",
      " [3]\n",
      " [4]\n",
      " [5]\n",
      " [6]\n",
      " [7]\n",
      " [8]\n",
      " [9]]\n"
     ]
    }
   ],
   "source": [
    "## Create a NumPy array of shape (3, 3) with values from 1 to 9. Reshape the array to shape (1, 9) and then to shape (9, 1).\n",
    "\n",
    "array=np.arange(1, 10).reshape(3, 3)\n",
    "\n",
    "arr1 = array.reshape(1, 9)\n",
    "arr2 = array.reshape(9, 1)\n",
    "\n",
    "print(arr2)"
   ]
  },
  {
   "cell_type": "code",
   "execution_count": 31,
   "id": "34da469b",
   "metadata": {},
   "outputs": [
    {
     "data": {
      "text/plain": [
       "array([[23, 16, 11, 46,  9],\n",
       "       [26, 26, 17, 46, 27],\n",
       "       [38, 42, 48,  5, 29],\n",
       "       [ 9, 49, 31, 25,  3],\n",
       "       [48, 44, 18, 21, 23]], dtype=int32)"
      ]
     },
     "execution_count": 31,
     "metadata": {},
     "output_type": "execute_result"
    }
   ],
   "source": [
    "## Create a NumPy array of shape (5, 5) filled with random integers. Flatten the array and then reshape it back to (5, 5).\n",
    "\n",
    "array=np.random.randint(1, 51, size=(5, 5))\n",
    "\n",
    "flattened_array = array.flatten()\n",
    "\n",
    "reshaped_array=flattened_array.reshape(5, 5)\n",
    "reshaped_array"
   ]
  },
  {
   "cell_type": "code",
   "execution_count": 34,
   "id": "f340a854",
   "metadata": {},
   "outputs": [
    {
     "name": "stdout",
     "output_type": "stream",
     "text": [
      "[[24 33 27 48 34]\n",
      " [43 49 36 39 49]\n",
      " [13 39 26 34 27]\n",
      " [15 33 47 28 45]\n",
      " [32 12 19 45 16]]\n",
      "[24 34 32 16]\n"
     ]
    }
   ],
   "source": [
    "## Create a NumPy array of shape (5, 5) filled with random integers. Use fancy indexing to extract the elements at the corners of the array.\n",
    "\n",
    "array=np.random.randint(1, 51, size=(5, 5))\n",
    "print(array)\n",
    "\n",
    "corners=array[[0, 0, -1, -1],[0, -1, 0, -1]]\n",
    "print(corners)"
   ]
  },
  {
   "cell_type": "code",
   "execution_count": 35,
   "id": "97200a09",
   "metadata": {},
   "outputs": [
    {
     "name": "stdout",
     "output_type": "stream",
     "text": [
      "[[44 40 10 39]\n",
      " [ 9 22 15 43]\n",
      " [28 35 50 17]\n",
      " [ 6 40 47 40]]\n",
      "[[10 10 10 10]\n",
      " [ 9 10 10 10]\n",
      " [10 10 10 10]\n",
      " [ 6 10 10 10]]\n"
     ]
    }
   ],
   "source": [
    "## Create a NumPy array of shape (4, 4) filled with random integers. Use boolean indexing to set all elements greater than 10 to 10.\n",
    "\n",
    "array=np.random.randint(1, 51, size=(4, 4))\n",
    "\n",
    "print(array)\n",
    "\n",
    "array[array > 10] = 10\n",
    "print(array)"
   ]
  },
  {
   "cell_type": "code",
   "execution_count": 39,
   "id": "c759af31",
   "metadata": {},
   "outputs": [
    {
     "name": "stdout",
     "output_type": "stream",
     "text": [
      "Original array:\n",
      "[[ 1 17 18 19]\n",
      " [15  8 13 11]\n",
      " [ 6 19 17  4]\n",
      " [18  6  7 12]]\n",
      "Masked array:\n",
      "[[1 -- -- --]\n",
      " [-- 8 -- --]\n",
      " [6 -- -- 4]\n",
      " [-- 6 7 --]]\n",
      "32\n"
     ]
    }
   ],
   "source": [
    "## Create a masked array of shape (4, 4) with random integers and mask the elements greater than 10. Compute the sum of the unmasked elements.\n",
    "import numpy.ma as ma\n",
    "\n",
    "array = np.random.randint(1, 21, size=(4, 4))\n",
    "masked_array = ma.masked_greater(array, 10)\n",
    "print(\"Original array:\")\n",
    "print(array)\n",
    "print(\"Masked array:\")\n",
    "print(masked_array)\n",
    "\n",
    "sum = masked_array.sum()\n",
    "print(sum)"
   ]
  },
  {
   "cell_type": "code",
   "execution_count": 43,
   "id": "41ef3687",
   "metadata": {},
   "outputs": [
    {
     "name": "stdout",
     "output_type": "stream",
     "text": [
      "[[ 9  6  9]\n",
      " [ 8  9 11]\n",
      " [10 11  9]]\n"
     ]
    }
   ],
   "source": [
    "## Create a masked array of shape (3, 3) with random integers and mask the diagonal elements. Replace the masked elements with the mean of the unmasked elements.\n",
    "\n",
    "import numpy.ma as ma\n",
    "\n",
    "array = np.random.randint(1, 21, size=(3, 3))\n",
    "masked_array = ma.masked_array(array, mask=np.eye(3, dtype=bool))\n",
    "\n",
    "mean_unmasked = masked_array.mean()\n",
    "masked_array = masked_array.filled(mean_unmasked)\n",
    "\n",
    "print(masked_array)"
   ]
  }
 ],
 "metadata": {
  "kernelspec": {
   "display_name": "Python 3",
   "language": "python",
   "name": "python3"
  },
  "language_info": {
   "codemirror_mode": {
    "name": "ipython",
    "version": 3
   },
   "file_extension": ".py",
   "mimetype": "text/x-python",
   "name": "python",
   "nbconvert_exporter": "python",
   "pygments_lexer": "ipython3",
   "version": "3.12.0"
  }
 },
 "nbformat": 4,
 "nbformat_minor": 5
}
