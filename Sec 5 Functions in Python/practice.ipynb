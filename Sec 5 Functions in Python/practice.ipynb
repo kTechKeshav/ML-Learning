{
 "cells": [
  {
   "cell_type": "code",
   "execution_count": 16,
   "metadata": {},
   "outputs": [
    {
     "name": "stdout",
     "output_type": "stream",
     "text": [
      "[13, 3, 3, 8, 14, 11, 7, 10, 6, 9]\n",
      "[169, 9, 9, 64, 196, 121, 49, 100, 36, 81]\n"
     ]
    }
   ],
   "source": [
    "# How to use the map with lambda function.\n",
    "\n",
    "import random\n",
    "\n",
    "numbers = [random.randint(1, 15) for _ in range(1, 11)]\n",
    "\n",
    "print(numbers)\n",
    "\n",
    "anslst = list(map(lambda x: x**2, numbers))\n",
    "print(anslst)"
   ]
  },
  {
   "cell_type": "code",
   "execution_count": 17,
   "metadata": {},
   "outputs": [
    {
     "name": "stdout",
     "output_type": "stream",
     "text": [
      "[3, 4, 5, 2]\n"
     ]
    }
   ],
   "source": [
    "lst = [int(x) for x in input(\"Enter : \").split(\" \")]\n",
    "print(lst)"
   ]
  },
  {
   "cell_type": "code",
   "execution_count": 3,
   "metadata": {},
   "outputs": [
    {
     "name": "stdout",
     "output_type": "stream",
     "text": [
      "Counter({'a': 3, 's': 2, 'h': 2, 'k': 1, 'e': 1, 'v': 1, 'w': 1, 't': 1, 'i': 1})\n"
     ]
    }
   ],
   "source": [
    "def count_word_frequency(sentence):\n",
    "    sentence = sentence.lower()\n",
    "    \n",
    "    ans = dict()\n",
    "    \n",
    "    for word in sentence.split(\" \"):\n",
    "        ans[word] = ans.get(word, 0)+1\n",
    "    \n",
    "    return ans        "
   ]
  }
 ],
 "metadata": {
  "kernelspec": {
   "display_name": "Python 3",
   "language": "python",
   "name": "python3"
  },
  "language_info": {
   "codemirror_mode": {
    "name": "ipython",
    "version": 3
   },
   "file_extension": ".py",
   "mimetype": "text/x-python",
   "name": "python",
   "nbconvert_exporter": "python",
   "pygments_lexer": "ipython3",
   "version": "3.12.0"
  }
 },
 "nbformat": 4,
 "nbformat_minor": 2
}
