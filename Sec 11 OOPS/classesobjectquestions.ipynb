{
 "cells": [
  {
   "cell_type": "markdown",
   "metadata": {},
   "source": [
    "# Module: Classes and Objects Assignments\n",
    "## Lesson: Creating and Working with Classes and Objects\n",
    "### Assignment 1: Basic Class and Object Creation✅\n",
    "\n",
    "Create a class named `Car` with attributes `make`, `model`, and `year`. Create an object of the class and print its attributes.\n",
    "\n",
    "### Assignment 2: Methods in Class✅\n",
    "\n",
    "Add a method named `start_engine` to the `Car` class that prints a message when the engine starts. Create an object of the class and call the method.\n",
    "\n",
    "### Assignment 3: Class with Constructor✅\n",
    "\n",
    "Create a class named `Student` with attributes `name` and `age`. Use a constructor to initialize these attributes. Create an object of the class and print its attributes.\n",
    "\n",
    "### Assignment 4: Class with Private Attributes✅\n",
    "\n",
    "Create a class named `BankAccount` with private attributes `account_number` and `balance`. Add methods to deposit and withdraw money, and to check the balance. Create an object of the class and perform some operations.\n",
    "\n",
    "### Assignment 5: Class Inheritance✅\n",
    "\n",
    "Create a base class named `Person` with attributes `name` and `age`. Create a derived class named `Employee` that inherits from `Person` and adds an attribute `employee_id`. Create an object of the derived class and print its attributes.\n",
    "\n",
    "### Assignment 6: Method Overriding✅\n",
    "\n",
    "In the `Employee` class, override the `__str__` method to return a string representation of the object. Create an object of the class and print it.\n",
    "\n",
    "### Assignment 7: Class Composition✅\n",
    "\n",
    "Create a class named `Address` with attributes `street`, `city`, and `zipcode`. Create a class named `Person` that has an `Address` object as an attribute. Create an object of the `Person` class and print its address.\n",
    "\n",
    "### Assignment 8: Class with Class Variables✅\n",
    "\n",
    "Create a class named `Counter` with a class variable `count`. Each time an object is created, increment the count. Add a method to get the current count. Create multiple objects and print the count.\n",
    "\n",
    "### Assignment 9: Static Methods✅\n",
    "\n",
    "Create a class named `MathOperations` with a static method to calculate the square root of a number. Call the static method without creating an object.\n",
    "\n",
    "### Assignment 10: Class with Properties\n",
    "\n",
    "Create a class named `Rectangle` with private attributes `length` and `width`. Use properties to get and set these attributes. Create an object of the class and test the properties.\n",
    "\n",
    "### Assignment 11: Abstract Base Class\n",
    "\n",
    "Create an abstract base class named `Shape` with an abstract method `area`. Create derived classes `Circle` and `Square` that implement the `area` method. Create objects of the derived classes and call the `area` method.\n",
    "\n",
    "### Assignment 12: Operator Overloading\n",
    "\n",
    "Create a class named `Vector` with attributes `x` and `y`. Overload the `+` operator to add two `Vector` objects. Create objects of the class and test the operator overloading.\n",
    "\n",
    "### Assignment 13: Class with Custom Exception\n",
    "\n",
    "Create a custom exception named `InsufficientBalanceError`. In the `BankAccount` class, raise this exception when a withdrawal amount is greater than the balance. Handle the exception and print an appropriate message.\n",
    "\n",
    "### Assignment 14: Class with Context Manager\n",
    "\n",
    "Create a class named `FileManager` that implements the context manager protocol to open and close a file. Use this class to read the contents of a file.\n",
    "\n",
    "### Assignment 15: Chaining Methods\n",
    "\n",
    "Create a class named `Calculator` with methods to add, subtract, multiply, and divide. Each method should return the object itself to allow method chaining. Create an object and chain multiple method calls."
   ]
  },
  {
   "cell_type": "code",
   "execution_count": 2,
   "metadata": {},
   "outputs": [
    {
     "name": "stdout",
     "output_type": "stream",
     "text": [
      "<__main__.car object at 0x000002629A668800>\n",
      "<__main__.car object at 0x000002629BD7AB70>\n"
     ]
    }
   ],
   "source": [
    "# Create a class named `Car` with attributes `make`, `model`, and `year`. Create an object of the class and print its attributes.\n",
    "\n",
    "class car:\n",
    "      def __init__(self, make, model, year):\n",
    "            print(self)\n",
    "            self.make = make\n",
    "            self.model = model\n",
    "            self.year = year\n",
    "\n",
    "car1 = car('Toyota', 'Camry', 2020)\n",
    "car2 = car('Anno', '484', 374)\n",
    "\n"
   ]
  },
  {
   "cell_type": "code",
   "execution_count": 5,
   "id": "d8a1dfa4",
   "metadata": {},
   "outputs": [
    {
     "name": "stdout",
     "output_type": "stream",
     "text": [
      "Engine starts\n"
     ]
    }
   ],
   "source": [
    "# Add a method named `start_engine` to the `Car` class that prints a message when the engine starts. Create an object of the class and call the method.\n",
    "\n",
    "class Car:\n",
    "      def __init__(self, make, model, year):\n",
    "            self.make = make\n",
    "            self.model = model\n",
    "            self.year = year\n",
    "\n",
    "      def start_engine(self):\n",
    "            print(\"Engine starts\")\n",
    "\n",
    "car1 = Car('Toyota', 'Camry', 2020)\n",
    "\n",
    "car1.start_engine()"
   ]
  },
  {
   "cell_type": "code",
   "execution_count": 6,
   "id": "66bf6dd1",
   "metadata": {},
   "outputs": [
    {
     "name": "stdout",
     "output_type": "stream",
     "text": [
      "<__main__.Student object at 0x000002629BE00740>\n"
     ]
    }
   ],
   "source": [
    "# Create a class named `Student` with attributes `name` and `age`. Use a constructor to initialize these attributes. Create an object of the class and print its attributes.\n",
    "\n",
    "class Student:\n",
    "      def __init__(self, name, age):\n",
    "            self.name = name\n",
    "            self.age = age\n",
    "      \n",
    "      def __str__(self):\n",
    "            return f\"{self.name} {self.age}\"\n",
    "      \n",
    "stud1 = Student(\"Keshav\", 21)\n",
    "print(stud1)"
   ]
  },
  {
   "cell_type": "code",
   "execution_count": 13,
   "id": "5ed46baa",
   "metadata": {},
   "outputs": [
    {
     "name": "stdout",
     "output_type": "stream",
     "text": [
      "1000\n",
      "Deposited successfully\n",
      "1300\n"
     ]
    }
   ],
   "source": [
    "# Create a class named `BankAccount` with private attributes `account_number` and `balance`. Add methods to deposit and withdraw money, and to check the balance. Create an object of the class and perform some operations.\n",
    "\n",
    "class BankAccount:\n",
    "      def __init__(self, account_number, balance):\n",
    "            self.__account_number = account_number\n",
    "            self.__balance = balance\n",
    "      \n",
    "      def deposit(self, amount):\n",
    "            self.__balance = self.__balance + amount\n",
    "            print(\"Deposited successfully\")\n",
    "      \n",
    "      def withdraw(self, amount):\n",
    "            if amount > self.__balance:\n",
    "                  print(\"Insufficient balance!\")\n",
    "            else:\n",
    "                  self.__balance -= amount\n",
    "      \n",
    "      def check(self):\n",
    "            print(self.__balance)\n",
    "      \n",
    "acc = BankAccount(3449, 1000)\n",
    "acc.check()\n",
    "acc.withdraw(200)\n",
    "acc.deposit(500)\n",
    "acc.check()"
   ]
  },
  {
   "cell_type": "code",
   "execution_count": 14,
   "id": "17ac3433",
   "metadata": {},
   "outputs": [
    {
     "name": "stdout",
     "output_type": "stream",
     "text": [
      "Mayank 20 3884\n"
     ]
    }
   ],
   "source": [
    "# Create a base class named `Person` with attributes `name` and `age`. Create a derived class named `Employee` that inherits from `Person` and adds an attribute `employee_id`. Create an object of the derived class and print its attributes.\n",
    "\n",
    "class Person:\n",
    "      def __init__(self, name, age):\n",
    "            self.name = name\n",
    "            self.age = age\n",
    "      \n",
    "      def __str__(self):\n",
    "            return f\"{self.name} {self.age}\"\n",
    "\n",
    "class Employee(Person):\n",
    "      def __init__(self, name, age, employee_id):\n",
    "            super().__init__(name, age)\n",
    "            self.employee_id = employee_id\n",
    "      \n",
    "      def __str__(self):\n",
    "            return f\"{self.name} {self.age} {self.employee_id}\"\n",
    "\n",
    "employee1 = Employee(\"Mayank\", 20, 3884)\n",
    "\n",
    "print(employee1)"
   ]
  },
  {
   "cell_type": "code",
   "execution_count": 16,
   "id": "cbea692f",
   "metadata": {},
   "outputs": [
    {
     "name": "stdout",
     "output_type": "stream",
     "text": [
      "sjdhd djkdjkd 37844\n"
     ]
    }
   ],
   "source": [
    "# Create a class named `Address` with attributes `street`, `city`, and `zipcode`. Create a class named `Person` that has an `Address` object as an attribute. Create an object of the `Person` class and print its address.\n",
    "\n",
    "class Adress:\n",
    "      def __init__(self, street, city, zipcode):\n",
    "        self.street = street\n",
    "        self.city = city\n",
    "        self.zipcode = zipcode\n",
    "      \n",
    "      def __str__(self):\n",
    "          return f\"{self.street} {self.city} {self.zipcode}\"\n",
    "      \n",
    "class Person:\n",
    "      def __init__(self, address):\n",
    "          self.address = address\n",
    "      def __str__(self):\n",
    "          return f\"{self.address}\"\n",
    "        \n",
    "\n",
    "add = Adress('sjdhd', 'djkdjkd', 37844)\n",
    "person = Person(add)\n",
    "\n",
    "print(person)"
   ]
  },
  {
   "cell_type": "code",
   "execution_count": 19,
   "id": "d8ea094d",
   "metadata": {},
   "outputs": [
    {
     "name": "stdout",
     "output_type": "stream",
     "text": [
      "4\n"
     ]
    }
   ],
   "source": [
    "# Create a class named `Counter` with a class variable `count`. Each time an object is created, increment the count. Add a method to get the current count. Create multiple objects and print the count.\n",
    "\n",
    "class Counter:\n",
    "      count = 0\n",
    "\n",
    "      def __init__(self):\n",
    "            Counter.count = Counter.count + 1\n",
    "\n",
    "      @staticmethod\n",
    "      def curretcount():\n",
    "            return Counter.count\n",
    "\n",
    "counter1 = Counter()\n",
    "counter2 = Counter()\n",
    "counter3 = Counter()\n",
    "counter4 = Counter()\n",
    "\n",
    "print(Counter.curretcount())\n"
   ]
  },
  {
   "cell_type": "code",
   "execution_count": 3,
   "id": "5cbf9fba",
   "metadata": {},
   "outputs": [
    {
     "name": "stdout",
     "output_type": "stream",
     "text": [
      "4.0\n"
     ]
    }
   ],
   "source": [
    "# Create a class named `MathOperations` with a static method to calculate the square root of a number. Call the static method without creating an object.\n",
    "\n",
    "import math\n",
    "\n",
    "class MathOperations:\n",
    "\n",
    "      @staticmethod\n",
    "      def sqrt(x):\n",
    "            return math.sqrt(x)\n",
    "      \n",
    "print(MathOperations.sqrt(16))  # 4.0"
   ]
  },
  {
   "cell_type": "code",
   "execution_count": null,
   "id": "b717ae51",
   "metadata": {},
   "outputs": [],
   "source": [
    "\n",
    "class Rectangle:\n",
    "    def __init__(self, length, width):\n",
    "        self.__length = length\n",
    "        self.__width = width\n",
    "\n",
    "    @property\n",
    "    def length(self):\n",
    "        return self.__length\n",
    "\n",
    "    @length.setter\n",
    "    def length(self, length):\n",
    "        self.__length = length\n",
    "\n",
    "    @property\n",
    "    def width(self):\n",
    "        return self.__width\n",
    "\n",
    "    @width.setter\n",
    "    def width(self, width):\n",
    "        self.__width = width"
   ]
  }
 ],
 "metadata": {
  "kernelspec": {
   "display_name": "Python 3",
   "language": "python",
   "name": "python3"
  },
  "language_info": {
   "codemirror_mode": {
    "name": "ipython",
    "version": 3
   },
   "file_extension": ".py",
   "mimetype": "text/x-python",
   "name": "python",
   "nbconvert_exporter": "python",
   "pygments_lexer": "ipython3",
   "version": "3.12.0"
  }
 },
 "nbformat": 4,
 "nbformat_minor": 5
}
